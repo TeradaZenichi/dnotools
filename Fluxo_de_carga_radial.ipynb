{
  "nbformat": 4,
  "nbformat_minor": 0,
  "metadata": {
    "colab": {
      "name": "Fluxo de carga radial.ipynb",
      "provenance": [],
      "collapsed_sections": [
        "RaPNQmDCFudv",
        "ViB1dSaUj30S"
      ],
      "toc_visible": true,
      "authorship_tag": "ABX9TyOJ5zQbwPMHed4M0QsjUAYP",
      "include_colab_link": true
    },
    "kernelspec": {
      "display_name": "Python 3",
      "name": "python3"
    }
  },
  "cells": [
    {
      "cell_type": "markdown",
      "metadata": {
        "id": "view-in-github",
        "colab_type": "text"
      },
      "source": [
        "<a href=\"https://colab.research.google.com/github/TeradaZenichi/dnotools/blob/master/Fluxo_de_carga_radial.ipynb\" target=\"_parent\"><img src=\"https://colab.research.google.com/assets/colab-badge.svg\" alt=\"Open In Colab\"/></a>"
      ]
    },
    {
      "cell_type": "markdown",
      "metadata": {
        "id": "35_Ko6OxEOEP"
      },
      "source": [
        "# **Fluxo de Carga Radial**"
      ]
    },
    {
      "cell_type": "markdown",
      "metadata": {
        "id": "mGkKwNmkEVD5"
      },
      "source": [
        "**Nome:** Lucas Zenichi Terada\n",
        "\n",
        "**Institution:** University of Campinas"
      ]
    },
    {
      "cell_type": "code",
      "metadata": {
        "id": "VHCc1xc7jluU"
      },
      "source": [
        "from collections import Counter\n",
        "import matplotlib.pyplot as plt\n",
        "import pandas as pd\n",
        "import numpy as np\n",
        "import json"
      ],
      "execution_count": 1,
      "outputs": []
    },
    {
      "cell_type": "markdown",
      "metadata": {
        "id": "RaPNQmDCFudv"
      },
      "source": [
        "## Análise Topológica"
      ]
    },
    {
      "cell_type": "code",
      "metadata": {
        "id": "EQHMjUvFCCeD"
      },
      "source": [
        "def verify(df, bar, aux_bus, aux_net, aux_swt, level, radial, line_type):\n",
        "  current_bar = 0\n",
        "  if df.start == bar and df.level == -1:\n",
        "    current_bar = df.end\n",
        "  if df.end == bar and df.level == -1:\n",
        "    current_bar = df.start \n",
        "  if current_bar > 0:\n",
        "    if line_type == 'line':\n",
        "      net.loc[df.num-1, 'level'] = level\n",
        "      aux_net.append(int(df.num))\n",
        "    if line_type == 'switch':\n",
        "      swt.loc[df.num-1, 'level'] = level\n",
        "      aux_swt.append(int(df.num))\n",
        "    if bus.loc[current_bar-1, 'level'] == -1:\n",
        "      bus.loc[current_bar-1, 'level'] = level\n",
        "      aux_bus.append(int(current_bar))\n",
        "    else:\n",
        "      radial = False\n",
        "  return aux_bus, aux_net, aux_swt, radial"
      ],
      "execution_count": 33,
      "outputs": []
    },
    {
      "cell_type": "code",
      "metadata": {
        "id": "-85cUKHxDsZm"
      },
      "source": [
        "def radiality():\n",
        "  (level, buslv, netlv, swtlv) = (0, [], [], [])\n",
        "  aux = []\n",
        "  (bus['level'], net['level'], swt['level']) = (np.ones(len(bus), dtype=int)*(-1),\n",
        "  np.ones(len(net), dtype=int)*(-1), np.ones(len(swt), dtype=int)*(-1))\n",
        "  radial = True\n",
        "  for ob in bus.itertuples():\n",
        "    if ob.bustype == 'feeder':\n",
        "      bus.loc[ob.Index, 'level'] = 0\n",
        "      aux.append(int(ob.num)) \n",
        "  buslv.append(aux)\n",
        "  netlv.append([])\n",
        "  swtlv.append([])\n",
        "  level = 1\n",
        "  while radial is True:\n",
        "    aux_bus = []\n",
        "    aux_net = []\n",
        "    aux_swt = []\n",
        "    for bar in buslv[level-1]:\n",
        "      for ol in net.itertuples():\n",
        "        (aux_bus, aux_net, aux_swt, radial) =  verify(net.loc[ol.num-1], bar, aux_bus, aux_net, aux_swt, level, radial, 'line')\n",
        "      for sw in swt.itertuples():\n",
        "        if sw.pos == 1:\n",
        "          (aux_bus, aux_net, aux_swt, radial) = verify(swt.loc[sw.Index], bar, aux_bus, aux_net, aux_swt, level, radial, 'switch')\n",
        "    if len(aux_bus) > 0:\n",
        "      buslv.append(aux_bus)\n",
        "      netlv.append(aux_net)\n",
        "      swtlv.append(aux_swt)\n",
        "      level +=1\n",
        "    else:\n",
        "      break\n",
        "  return radial, level, buslv, netlv, swtlv"
      ],
      "execution_count": 34,
      "outputs": []
    },
    {
      "cell_type": "code",
      "metadata": {
        "id": "7QO7JKbYENUn"
      },
      "source": [
        "# Carregar os arquivos dataframe para análise topológica\n",
        "global bus, net, swt, par\n",
        "bus = pd.read_csv('bus.csv')\n",
        "net = pd.read_csv('networks.csv')\n",
        "swt = pd.read_csv('switches.csv')\n",
        "par = json.load(open('param.json','r'))"
      ],
      "execution_count": 35,
      "outputs": []
    },
    {
      "cell_type": "code",
      "metadata": {
        "id": "E4SvV-JcF_Yj"
      },
      "source": [
        "net.r = net.r/1000\n",
        "net.x = net.x/1000\n",
        "swt.r = swt.r/1000\n",
        "swt.x = swt.x/1000"
      ],
      "execution_count": 36,
      "outputs": []
    },
    {
      "cell_type": "code",
      "metadata": {
        "id": "jsg1CqnrE77T"
      },
      "source": [
        ""
      ],
      "execution_count": 36,
      "outputs": []
    },
    {
      "cell_type": "markdown",
      "metadata": {
        "id": "r2ER5V6_oEKo"
      },
      "source": [
        "## Fluxo de carga - backward forward sweep"
      ]
    },
    {
      "cell_type": "code",
      "metadata": {
        "id": "nMgWF47CVY8b"
      },
      "source": [
        "def error_calc(v, Ibus):\n",
        "  error = 0\n",
        "  for bar in bus.itertuples():\n",
        "    if bar.bustype == 'load' and bar.level > 0:\n",
        "      aux = np.abs(bar.pd+1j*bar.qd - v[bar.num-1]*np.conj(Ibus[bar.num-1]))\n",
        "      error = np.maximum(aux, error)\n",
        "  return error"
      ],
      "execution_count": 37,
      "outputs": []
    },
    {
      "cell_type": "code",
      "metadata": {
        "id": "ZYlPbaDU2Jb7"
      },
      "source": [
        "def identify(df, lv):\n",
        "  if bus.level[int(df.start)-1] == int(lv):\n",
        "    mul = -1\n",
        "    return int(df.start), mul\n",
        "  elif bus.level[int(df.end)-1] == int(lv):\n",
        "    mul = 1\n",
        "    return int(df.end), mul\n",
        "  else:\n",
        "    return 0"
      ],
      "execution_count": 38,
      "outputs": []
    },
    {
      "cell_type": "code",
      "metadata": {
        "id": "Bme73yzH8Yj3"
      },
      "source": [
        "def nodalcurrent(Ibus, df, lv):\n",
        "  if bus.level[int(df.start)-1] == lv:\n",
        "    return -Ibus[int(df.start)-1]\n",
        "  elif bus.level[int(df.end)-1] == lv:\n",
        "    return Ibus[int(df.end)-1]"
      ],
      "execution_count": 39,
      "outputs": []
    },
    {
      "cell_type": "code",
      "metadata": {
        "id": "QQZy1BDfI2-w"
      },
      "source": [
        "def current(bar, Ikm, df, nplus):\n",
        "  Inear = 0\n",
        "  if bar == df.start:\n",
        "    Inear = Ikm[nplus-1]\n",
        "  elif bar == df.end:\n",
        "    Inear = -Ikm[nplus-1]\n",
        "  return Inear"
      ],
      "execution_count": 40,
      "outputs": []
    },
    {
      "cell_type": "code",
      "metadata": {
        "id": "e6sUb_EzhR3S"
      },
      "source": [
        "def currente_calc(lv, v, Ibus, Inet, Iswt, buslv, netlv, swtlv, level):\n",
        "  for n in netlv[lv]:\n",
        "    Inet[n-1] = nodalcurrent(Ibus, net.loc[n-1], lv)\n",
        "  for s in swtlv[lv]:\n",
        "    Iswt[s-1] = nodalcurrent(Ibus, swt.loc[s-1], lv)\n",
        "  if lv+1 < level:\n",
        "    for n in netlv[lv]:\n",
        "      (bar, mul) = identify(net.loc[n-1], lv)\n",
        "      for nplus in netlv[lv+1]:\n",
        "          Inet[n-1] = Inet[n-1] + mul*current(bar, Inet, net.loc[nplus-1], nplus)\n",
        "      for splus in swtlv[lv+1]:\n",
        "          Inet[n-1] = Inet[n-1] + mul*current(bar, Iswt, swt.loc[splus-1], splus)\n",
        "    for s in swtlv[lv]:\n",
        "      (bar, mul) = identify(swt.loc[s-1], lv)\n",
        "      for splus in swtlv[lv+1]:\n",
        "        Iswt[s-1] = Iswt[s-1] + mul*current(bar, Iswt, swt.loc[splus-1], splus)\n",
        "      for nplus in netlv[lv+1]:\n",
        "        Iswt[s-1] = Iswt[s-1] + mul*current(bar, Inet, net.loc[nplus-1], nplus)\n",
        "  return Inet, Iswt"
      ],
      "execution_count": 41,
      "outputs": []
    },
    {
      "cell_type": "code",
      "metadata": {
        "id": "ycH4F6sWmB-O"
      },
      "source": [
        "def voltage_calc(lv, v, Ibus, Inet, Iswt, buslv, netlv, swtlv, level):\n",
        "  for n in netlv[lv]:\n",
        "    if bus.level[net.start[n-1]-1] > bus.level[net.end[n-1]-1]:\n",
        "      v[net.start[n-1]-1] = v[net.end[n-1]-1] - Inet[n-1]*(net.r[n-1]+1j*net.x[n-1])\n",
        "    else:\n",
        "      v[net.end[n-1]-1] = v[net.start[n-1]-1] - Inet[n-1]*(net.r[n-1]+1j*net.x[n-1])\n",
        "  for s in swtlv[lv]:\n",
        "      if bus.level[swt.start[s-1]-1] > bus.level[swt.end[s-1]-1]:\n",
        "        v[swt.start[s-1]-1] = v[swt.end[s-1]-1] - Iswt[s-1]*(swt.r[s-1]+1j*swt.x[s-1])\n",
        "      else:\n",
        "        v[swt.end[s-1]-1] = v[swt.start[s-1]-1] - Iswt[s-1]*(swt.r[s-1]+1j*swt.x[s-1])\n",
        "  return v"
      ],
      "execution_count": 72,
      "outputs": []
    },
    {
      "cell_type": "code",
      "metadata": {
        "id": "M7Q_VRxtHKK_"
      },
      "source": [
        "def initial_voltage(buslv, level):\n",
        "  v = np.zeros(len(bus), dtype=complex)\n",
        "  for bar in buslv[0]:\n",
        "    v[bar-1] = bus.baseKV[bar-1]/np.sqrt(3)\n",
        "  for lv in range(1,level):\n",
        "    for line in netlv[lv]:\n",
        "      if bus.level[net.start[line-1]-1] < bus.level[net.end[line-1]-1]:\n",
        "        v[net.end[line-1]-1] = v[net.start[line-1]-1]\n",
        "      elif bus.level[net.end[line-1]-1] < bus.level[net.start[line-1]-1]:\n",
        "        v[net.start[line-1]-1] = v[net.end[line-1]-1]\n",
        "    for switch in swtlv[lv]:\n",
        "      if bus.level[swt.start[switch-1]-1] < bus.level[swt.end[switch-1]-1]:\n",
        "        v[swt.end[switch-1]-1] = v[swt.start[switch-1]-1]\n",
        "      elif bus.level[swt.end[switch-1]-1] < bus.level[swt.start[switch-1]-1]:\n",
        "        v[swt.start[switch-1]-1] = v[swt.end[switch-1]-1]\n",
        "  return v"
      ],
      "execution_count": 43,
      "outputs": []
    },
    {
      "cell_type": "code",
      "metadata": {
        "id": "k52mg1P_Hwtt"
      },
      "source": [
        "def sweeppowerflow():\n",
        "  #estados a serem calculados\n",
        "  Ibus = np.zeros(len(bus), dtype=complex)\n",
        "  Inet = np.zeros(len(net), dtype=complex)\n",
        "  Iswt = np.zeros(len(swt), dtype=complex)\n",
        "  v = initial_voltage(buslv, level)\n",
        "  error = np.infty\n",
        "  iteration = 0\n",
        "  while error > 1e-5 and iteration < 15:\n",
        "  # Passo 2: Injeção de corrente\n",
        "    for bar in bus.itertuples():\n",
        "      if v[bar.num-1] > 0:\n",
        "        Ibus[bar.num-1] = np.conj((bar.pd+1j*bar.qd)/(par['snom']*v[bar.num-1]))\n",
        "    # Passo 3: (Backward sweep): Fluxo de corrente para cada level\n",
        "    for lv in range(level-1,0,-1):\n",
        "      (Inet, Iswt) = currente_calc(lv, v, Ibus, Inet, Iswt, buslv, netlv, swtlv, level)\n",
        "    # Passo 4: (Forward sweep:) Tensões nas barras\n",
        "    for lv in range(1,level):\n",
        "      v = voltage_calc(lv, v, Ibus, Inet, Iswt, buslv, netlv, swtlv, level)\n",
        "    error = error_calc(v, Ibus)\n",
        "    iteration = iteration + 1\n",
        "  return v, Ibus, Inet, Iswt, error, iteration"
      ],
      "execution_count": 44,
      "outputs": []
    },
    {
      "cell_type": "markdown",
      "metadata": {
        "id": "ViB1dSaUj30S"
      },
      "source": [
        "## Funções adicionais para fluxo de carga"
      ]
    },
    {
      "cell_type": "code",
      "metadata": {
        "id": "wmQ6MwWFj9uz"
      },
      "source": [
        "def loss():\n",
        "  Ploss = 0.0\n",
        "  for line in net.itertuples():\n",
        "    Ploss = Ploss + line.r*(line.Ikm**2)\n",
        "  for switch in swt.itertuples():\n",
        "    Ploss = Ploss + switch.r*(switch.Ikm**2)\n",
        "  return Ploss"
      ],
      "execution_count": 45,
      "outputs": []
    },
    {
      "cell_type": "code",
      "metadata": {
        "id": "3ekN5ZyOkFeh"
      },
      "source": [
        "def branch_current(Inet, Iswt):\n",
        "  net['Ikm'] = np.round(np.abs(Inet), decimals=4)\n",
        "  swt['Ikm'] = np.round(np.abs(Iswt), decimals=4)"
      ],
      "execution_count": 46,
      "outputs": []
    },
    {
      "cell_type": "code",
      "metadata": {
        "id": "pyBu4NZfk67y"
      },
      "source": [
        "def refresh_bus(v):\n",
        "  v = np.round(np.abs(v), decimals=4)\n",
        "  bus['v'] = np.abs(v)"
      ],
      "execution_count": 47,
      "outputs": []
    },
    {
      "cell_type": "code",
      "metadata": {
        "id": "n5rJa_W9k0mo"
      },
      "source": [
        "def line_power(v, Inet, Iswt):\n",
        "  S = np.zeros(len(net), dtype=complex)\n",
        "  for line in net.itertuples():\n",
        "    S[line.Index] = v[line.start-1]*np.conj(Inet[line.Index])\n",
        "  net['Pkm'] = np.round(np.real(S), decimals=4)\n",
        "  net['Qkm'] = np.round(np.imag(S), decimals=4)\n",
        "  S = np.zeros(len(swt), dtype=complex)\n",
        "  for line in swt.itertuples():\n",
        "    S[line.Index] = v[line.start-1]*np.conj(Inet[line.Index])\n",
        "  swt['Pkm'] = np.round(np.real(S), decimals=4)\n",
        "  swt['Qkm'] = np.round(np.imag(S), decimals=4)"
      ],
      "execution_count": 48,
      "outputs": []
    },
    {
      "cell_type": "code",
      "metadata": {
        "id": "PAe4_W4LSzZI"
      },
      "source": [
        "def states():\n",
        "  (v, Ibus, Inet, Iswt, error, iteration) = sweeppowerflow()\n",
        "  line_power(v, Inet, Iswt)\n",
        "  branch_current(Inet, Iswt)\n",
        "  refresh_bus(v)"
      ],
      "execution_count": 49,
      "outputs": []
    },
    {
      "cell_type": "code",
      "metadata": {
        "id": "2yknRv7Ol5zm"
      },
      "source": [
        ""
      ],
      "execution_count": 49,
      "outputs": []
    },
    {
      "cell_type": "markdown",
      "metadata": {
        "id": "lS12cYa6mdWL"
      },
      "source": [
        "## Funções restrições"
      ]
    },
    {
      "cell_type": "code",
      "metadata": {
        "id": "tqdtTL0m_DV4"
      },
      "source": [
        "def radiality_restriction():\n",
        "  mod_bus = len(bus)\n",
        "  mod_net = len(net)\n",
        "  mod_sub = Counter(bus.bustype)['feeder']\n",
        "  return "
      ],
      "execution_count": 50,
      "outputs": []
    },
    {
      "cell_type": "code",
      "metadata": {
        "id": "h-g9ab47c4Fj"
      },
      "source": [
        "def voltage_constraint(upper, lower):\n",
        "  respect = True\n",
        "  for bar in bus.itertuples():\n",
        "    if bar.v*np.sqrt(3)/bar.baseKV > upper and bar.level > -1:\n",
        "      respect = False\n",
        "      break\n",
        "    if bar.v*np.sqrt(3)/bar.baseKV < lower and bar.level > -1:\n",
        "      respect = False\n",
        "      break\n",
        "  return respect"
      ],
      "execution_count": 51,
      "outputs": []
    },
    {
      "cell_type": "code",
      "metadata": {
        "id": "stYY65nCdRN3"
      },
      "source": [
        "def custo(cr, cch, cls):\n",
        "  custo = 0.0\n",
        "  for bar in bus.itertuples():\n",
        "    if bar.level == -1:\n",
        "      custo = custo + cr*bar.pd\n",
        "  nchanges = np.sum(np.abs(swt.ini - swt.pos))\n",
        "  custo = custo + cch*nchanges\n",
        "  custo = custo + cls*loss()\n",
        "  return custo"
      ],
      "execution_count": 52,
      "outputs": []
    },
    {
      "cell_type": "code",
      "metadata": {
        "id": "PZwHMcwYuiQi"
      },
      "source": [
        "def isolation():\n",
        "  respect = True\n",
        "  for bar in bus.itertuples():\n",
        "    if par['zone_status'][bar.zb] == 0 and bar.v > 0:\n",
        "      respect = False\n",
        "  return respect"
      ],
      "execution_count": 123,
      "outputs": []
    },
    {
      "cell_type": "code",
      "metadata": {
        "id": "a0gEryyG_WpB"
      },
      "source": [
        "def bin2int():\n",
        "  size = len(swt)\n",
        "  value = 0\n",
        "  for i in range(size-1,-1,-1):\n",
        "    value = value + swt.pos[size-i-1]*2**i\n",
        "  return value"
      ],
      "execution_count": 54,
      "outputs": []
    },
    {
      "cell_type": "markdown",
      "metadata": {
        "id": "Caamq-MZnQDV"
      },
      "source": [
        "## Restauração"
      ]
    },
    {
      "cell_type": "code",
      "metadata": {
        "colab": {
          "base_uri": "https://localhost:8080/"
        },
        "id": "GZY-nqeRnRm7",
        "outputId": "0199acb3-eeba-408f-dde3-39aeb0cb14d1"
      },
      "source": [
        ""
      ],
      "execution_count": null,
      "outputs": [
        {
          "output_type": "stream",
          "text": [
            "Radial\n",
            "\n"
          ],
          "name": "stdout"
        }
      ]
    },
    {
      "cell_type": "markdown",
      "metadata": {
        "id": "mMHpWULWhz2H"
      },
      "source": [
        "### Documentação de funções usadas na busca Tabu\n"
      ]
    },
    {
      "cell_type": "markdown",
      "metadata": {
        "id": "kcI1ZRnqiANh"
      },
      "source": [
        "radiality()\n",
        "\n",
        "radiality_restriction()  -- **Não implementado**\n",
        "\n",
        "voltage_constraint(upper, lower)\n",
        "\n",
        "custo(cr, cch, cls)\n",
        "\n",
        "isolation()\n",
        "\n",
        "**Criar função para potência nos alimentadores**\n",
        "\n"
      ]
    },
    {
      "cell_type": "code",
      "metadata": {
        "id": "Be6vR_yZ35ia"
      },
      "source": [
        "#Definição de custos:\n",
        "(cr, cch, cls) = (5.0, 0.2, 0.01)\n",
        "par['zone_status'] = [1,0,1,1,1,1,1,1,1,1]\n",
        "BTmax = 3        #argumento da função\n",
        "sol = np.zeros(len(swt), dtype=int)\n",
        "swt['pos'] = sol\n",
        "(radial, level, buslv, netlv, swtlv) = radiality()\n",
        "states()\n",
        "best_cost = custo(cr, cch, cls)\n",
        "iter = 0\n",
        "bestiter = 0\n",
        "tabulist = list()"
      ],
      "execution_count": 149,
      "outputs": []
    },
    {
      "cell_type": "code",
      "metadata": {
        "colab": {
          "base_uri": "https://localhost:8080/"
        },
        "id": "gB6lcbne39lG",
        "outputId": "d47db5b9-2f4c-4ac0-a47b-e2a06297da08"
      },
      "source": [
        "# Busca de soluções vizinhas\n",
        "while iter-bestiter < BTmax:\n",
        "  total_solutions = []\n",
        "  for i in range(0,len(swt)):\n",
        "    neighbor = sol.copy()\n",
        "    neighbor[i] = neighbor[i] ^ 1\n",
        "    int_value = bin2int()\n",
        "    swt['pos'] = neighbor\n",
        "    if int_value not in tabulist:\n",
        "      (radial, level, buslv, netlv, swtlv) = radiality()\n",
        "      if radial is True:\n",
        "        states()\n",
        "        if isolation() is False:\n",
        "          tabulist.append(int_value)\n",
        "          break\n",
        "        elif voltage_constraint(1.05, 0.80) is False:\n",
        "          tabulist.append(int_value)\n",
        "          break\n",
        "        else:\n",
        "          current_cost = custo(cr, cch, cls)\n",
        "          total_solutions.append(current_cost)\n",
        "          if current_cost < best_cost:\n",
        "            best_sol = neighbor\n",
        "            best_cost = current_cost\n",
        "            bestiter = iter\n",
        "      else:\n",
        "        tabulist.append(int_value)\n",
        "\n",
        "  iter += 1\n",
        "  sol = best_sol\n",
        "  print(sol,'\\n')\n",
        "  print(\"iterations: \",iter,'\\n')\n",
        "  print('melhor iteracao: ', bestiter,'\\n')\n",
        "  print('Soluções encontradas: ', total_solutions,'\\n')\n",
        "  print('Melhor solução (valor): ', best_cost)\n",
        "  print('Lista Tabu: ', tabulist,'\\n\\n\\n')"
      ],
      "execution_count": 151,
      "outputs": [
        {
          "output_type": "stream",
          "text": [
            "[0 0 1 1 0 0 0 1 0 1 0 0 0 1 0 1 1 1] \n",
            "\n",
            "iterations:  1 \n",
            "\n",
            "melhor iteracao:  0 \n",
            "\n",
            "Soluções encontradas:  [] \n",
            "\n",
            "Melhor solução (valor):  25501.8\n",
            "Lista Tabu:  [0] \n",
            "\n",
            "\n",
            "\n",
            "[0 0 1 1 0 0 0 1 0 1 0 0 0 1 0 1 1 1] \n",
            "\n",
            "iterations:  2 \n",
            "\n",
            "melhor iteracao:  0 \n",
            "\n",
            "Soluções encontradas:  [] \n",
            "\n",
            "Melhor solução (valor):  25501.8\n",
            "Lista Tabu:  [0, 131072] \n",
            "\n",
            "\n",
            "\n",
            "[0 0 1 1 0 0 0 1 0 1 0 0 0 1 0 1 1 1] \n",
            "\n",
            "iterations:  3 \n",
            "\n",
            "melhor iteracao:  0 \n",
            "\n",
            "Soluções encontradas:  [] \n",
            "\n",
            "Melhor solução (valor):  25501.8\n",
            "Lista Tabu:  [0, 131072, 181527] \n",
            "\n",
            "\n",
            "\n"
          ],
          "name": "stdout"
        }
      ]
    },
    {
      "cell_type": "code",
      "metadata": {
        "colab": {
          "base_uri": "https://localhost:8080/"
        },
        "id": "FjGjr7o8BMQ9",
        "outputId": "b09130e5-2e43-428b-edb0-db78e3548f64"
      },
      "source": [
        "sol"
      ],
      "execution_count": 150,
      "outputs": [
        {
          "output_type": "execute_result",
          "data": {
            "text/plain": [
              "array([0, 0, 0, 0, 0, 0, 0, 0, 0, 0, 0, 0, 0, 0, 0, 0, 0, 0])"
            ]
          },
          "metadata": {
            "tags": []
          },
          "execution_count": 150
        }
      ]
    },
    {
      "cell_type": "code",
      "metadata": {
        "id": "eHSP6KqAG9ed"
      },
      "source": [
        ""
      ],
      "execution_count": 126,
      "outputs": []
    },
    {
      "cell_type": "code",
      "metadata": {
        "id": "cu_pNNH9HlB8"
      },
      "source": [
        ""
      ],
      "execution_count": 126,
      "outputs": []
    },
    {
      "cell_type": "code",
      "metadata": {
        "id": "reWU3pBuKsnr"
      },
      "source": [
        ""
      ],
      "execution_count": 126,
      "outputs": []
    },
    {
      "cell_type": "code",
      "metadata": {
        "id": "R_iE_9MKGTLv"
      },
      "source": [
        ""
      ],
      "execution_count": null,
      "outputs": []
    }
  ]
}