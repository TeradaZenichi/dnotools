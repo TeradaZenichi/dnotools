{
  "nbformat": 4,
  "nbformat_minor": 0,
  "metadata": {
    "colab": {
      "name": "Fluxo de carga radial.ipynb",
      "provenance": [],
      "collapsed_sections": [],
      "toc_visible": true,
      "authorship_tag": "ABX9TyNBY3aQ5MyVUZ27m5Byd9uG",
      "include_colab_link": true
    },
    "kernelspec": {
      "display_name": "Python 3",
      "name": "python3"
    }
  },
  "cells": [
    {
      "cell_type": "markdown",
      "metadata": {
        "id": "view-in-github",
        "colab_type": "text"
      },
      "source": [
        "<a href=\"https://colab.research.google.com/github/TeradaZenichi/dnotools/blob/master/Fluxo_de_carga_radial.ipynb\" target=\"_parent\"><img src=\"https://colab.research.google.com/assets/colab-badge.svg\" alt=\"Open In Colab\"/></a>"
      ]
    },
    {
      "cell_type": "markdown",
      "metadata": {
        "id": "35_Ko6OxEOEP"
      },
      "source": [
        "# **Fluxo de Carga Radial**"
      ]
    },
    {
      "cell_type": "markdown",
      "metadata": {
        "id": "mGkKwNmkEVD5"
      },
      "source": [
        "**Nome:** Lucas Zenichi Terada\n",
        "\n",
        "**Institution:** University of Campinas"
      ]
    },
    {
      "cell_type": "code",
      "metadata": {
        "id": "VHCc1xc7jluU"
      },
      "source": [
        "from collections import Counter\n",
        "import matplotlib.pyplot as plt\n",
        "import pandas as pd\n",
        "import numpy as np\n",
        "import json"
      ],
      "execution_count": 1,
      "outputs": []
    },
    {
      "cell_type": "markdown",
      "metadata": {
        "id": "RaPNQmDCFudv"
      },
      "source": [
        "## Análise Topológica"
      ]
    },
    {
      "cell_type": "code",
      "metadata": {
        "id": "EQHMjUvFCCeD"
      },
      "source": [
        "def verify(df, bar, aux_bus, aux_net, aux_swt, level, radial, line_type):\n",
        "  current_bar = 0\n",
        "  if df.start == bar and df.level == -1:\n",
        "    current_bar = df.end\n",
        "  if df.end == bar and df.level == -1:\n",
        "    current_bar = df.start \n",
        "  if current_bar > 0:\n",
        "    if line_type == 'line':\n",
        "      net.loc[df.num-1, 'level'] = level\n",
        "      aux_net.append(int(df.num))\n",
        "    if line_type == 'switch':\n",
        "      swt.loc[df.num-1, 'level'] = level\n",
        "      aux_swt.append(int(df.num))\n",
        "    if bus.loc[current_bar-1, 'level'] == -1:\n",
        "      bus.loc[current_bar-1, 'level'] = level\n",
        "      aux_bus.append(int(current_bar))\n",
        "    else:\n",
        "      radial = False\n",
        "  return aux_bus, aux_net, aux_swt, radial"
      ],
      "execution_count": 5,
      "outputs": []
    },
    {
      "cell_type": "code",
      "metadata": {
        "id": "-85cUKHxDsZm"
      },
      "source": [
        "def radiality():\n",
        "  (level, buslv, netlv, swtlv) = (0, [], [], [])\n",
        "  aux = []\n",
        "  (bus['level'], net['level'], swt['level']) = (np.ones(len(bus), dtype=int)*(-1),\n",
        "  np.ones(len(net), dtype=int)*(-1), np.ones(len(swt), dtype=int)*(-1))\n",
        "  radial = True\n",
        "  for ob in bus.itertuples():\n",
        "    if ob.bustype == 'feeder':\n",
        "      bus.loc[ob.Index, 'level'] = 0\n",
        "      aux.append(int(ob.num)) \n",
        "  buslv.append(aux)\n",
        "  netlv.append([])\n",
        "  swtlv.append([])\n",
        "  level = 1\n",
        "  while radial is True:\n",
        "    aux_bus = []\n",
        "    aux_net = []\n",
        "    aux_swt = []\n",
        "    for bar in buslv[level-1]:\n",
        "      for ol in net.itertuples():\n",
        "        (aux_bus, aux_net, aux_swt, radial) =  verify(net.loc[ol.num-1], bar, aux_bus, aux_net, aux_swt, level, radial, 'line')\n",
        "      for sw in swt.itertuples():\n",
        "        if sw.pos == 1:\n",
        "          (aux_bus, aux_net, aux_swt, radial) = verify(swt.loc[sw.Index], bar, aux_bus, aux_net, aux_swt, level, radial, 'switch')\n",
        "    if len(aux_bus) > 0:\n",
        "      buslv.append(aux_bus)\n",
        "      netlv.append(aux_net)\n",
        "      swtlv.append(aux_swt)\n",
        "      level +=1\n",
        "    else:\n",
        "      break\n",
        "  return radial, level, buslv, netlv, swtlv"
      ],
      "execution_count": 6,
      "outputs": []
    },
    {
      "cell_type": "code",
      "metadata": {
        "id": "7QO7JKbYENUn"
      },
      "source": [
        "# Carregar os arquivos dataframe para análise topológica\n",
        "global bus, net, swt, par\n",
        "bus = pd.read_csv('bus.csv')\n",
        "net = pd.read_csv('networks.csv')\n",
        "swt = pd.read_csv('switches.csv')\n",
        "par = json.load(open('param.json','r'))"
      ],
      "execution_count": 7,
      "outputs": []
    },
    {
      "cell_type": "code",
      "metadata": {
        "id": "E4SvV-JcF_Yj"
      },
      "source": [
        "net.r = net.r/1000\n",
        "net.x = net.x/1000\n",
        "swt.r = swt.r/1000\n",
        "swt.x = swt.x/1000"
      ],
      "execution_count": 8,
      "outputs": []
    },
    {
      "cell_type": "code",
      "metadata": {
        "id": "jsg1CqnrE77T"
      },
      "source": [
        ""
      ],
      "execution_count": 8,
      "outputs": []
    },
    {
      "cell_type": "markdown",
      "metadata": {
        "id": "r2ER5V6_oEKo"
      },
      "source": [
        "## Fluxo de carga - backward forward sweep"
      ]
    },
    {
      "cell_type": "code",
      "metadata": {
        "id": "nMgWF47CVY8b"
      },
      "source": [
        "def error_calc(v, Ibus):\n",
        "  error = 0\n",
        "  for bar in bus.itertuples():\n",
        "    if bar.bustype == 'load' and bar.level > 0:\n",
        "      aux = np.abs(bar.pd+1j*bar.qd - v[bar.num-1]*np.conj(Ibus[bar.num-1]))\n",
        "      error = np.maximum(aux, error)\n",
        "  return error"
      ],
      "execution_count": 9,
      "outputs": []
    },
    {
      "cell_type": "code",
      "metadata": {
        "id": "ZYlPbaDU2Jb7"
      },
      "source": [
        "def identify(df, lv):\n",
        "  if bus.level[int(df.start)-1] == int(lv):\n",
        "    mul = -1\n",
        "    return int(df.start), mul\n",
        "  elif bus.level[int(df.end)-1] == int(lv):\n",
        "    mul = 1\n",
        "    return int(df.end), mul\n",
        "  else:\n",
        "    return 0"
      ],
      "execution_count": 10,
      "outputs": []
    },
    {
      "cell_type": "code",
      "metadata": {
        "id": "Bme73yzH8Yj3"
      },
      "source": [
        "def nodalcurrent(Ibus, df, lv):\n",
        "  if bus.level[int(df.start)-1] == lv:\n",
        "    return -Ibus[int(df.start)-1]\n",
        "  elif bus.level[int(df.end)-1] == lv:\n",
        "    return Ibus[int(df.end)-1]"
      ],
      "execution_count": 11,
      "outputs": []
    },
    {
      "cell_type": "code",
      "metadata": {
        "id": "QQZy1BDfI2-w"
      },
      "source": [
        "def current(bar, Ikm, df, nplus):\n",
        "  Inear = 0\n",
        "  if bar == df.start:\n",
        "    Inear = Ikm[nplus-1]\n",
        "  elif bar == df.end:\n",
        "    Inear = -Ikm[nplus-1]\n",
        "  return Inear"
      ],
      "execution_count": 12,
      "outputs": []
    },
    {
      "cell_type": "code",
      "metadata": {
        "id": "e6sUb_EzhR3S"
      },
      "source": [
        "def currente_calc(lv, v, Ibus, Inet, Iswt, buslv, netlv, swtlv, level):\n",
        "  for n in netlv[lv]:\n",
        "    Inet[n-1] = nodalcurrent(Ibus, net.loc[n-1], lv)\n",
        "  for s in swtlv[lv]:\n",
        "    Iswt[s-1] = nodalcurrent(Ibus, swt.loc[s-1], lv)\n",
        "  if lv+1 < level:\n",
        "    for n in netlv[lv]:\n",
        "      (bar, mul) = identify(net.loc[n-1], lv)\n",
        "      for nplus in netlv[lv+1]:\n",
        "          Inet[n-1] = Inet[n-1] + mul*current(bar, Inet, net.loc[nplus-1], nplus)\n",
        "      for splus in swtlv[lv+1]:\n",
        "          Inet[n-1] = Inet[n-1] + mul*current(bar, Iswt, swt.loc[splus-1], splus)\n",
        "    for s in swtlv[lv]:\n",
        "      (bar, mul) = identify(swt.loc[s-1], lv)\n",
        "      for splus in swtlv[lv+1]:\n",
        "        Iswt[s-1] = Iswt[s-1] + mul*current(bar, Iswt, swt.loc[splus-1], splus)\n",
        "      for nplus in netlv[lv+1]:\n",
        "        Iswt[s-1] = Iswt[s-1] + mul*current(bar, Inet, net.loc[nplus-1], nplus)\n",
        "  return Inet, Iswt"
      ],
      "execution_count": 13,
      "outputs": []
    },
    {
      "cell_type": "code",
      "metadata": {
        "id": "ycH4F6sWmB-O"
      },
      "source": [
        "def voltage_calc(lv, v, Ibus, Inet, Iswt, buslv, netlv, swtlv, level):\n",
        "  for n in netlv[lv]:\n",
        "    if bus.level[net.start[n-1]-1] > bus.level[net.end[n-1]-1]:\n",
        "      v[net.start[n-1]-1] = v[net.end[n-1]-1] - Inet[n-1]*(net.r[n-1]+1j*net.x[n-1])\n",
        "    else:\n",
        "      v[net.end[n-1]-1] = v[net.start[n-1]-1] - Inet[n-1]*(net.r[n-1]+1j*net.x[n-1])\n",
        "  for s in swtlv[lv]:\n",
        "      if bus.level[swt.start[s-1]-1] > bus.level[swt.end[s-1]-1]:\n",
        "        v[swt.start[s-1]-1] = v[swt.end[s-1]-1] - Iswt[s-1]*(swt.r[n-1]+1j*swt.x[n-1])\n",
        "      else:\n",
        "        v[swt.end[s-1]-1] = v[swt.start[s-1]-1] - Iswt[s-1]*(swt.r[s-1]+1j*swt.x[s-1])\n",
        "  return v"
      ],
      "execution_count": 14,
      "outputs": []
    },
    {
      "cell_type": "code",
      "metadata": {
        "id": "M7Q_VRxtHKK_"
      },
      "source": [
        "def initial_voltage(buslv, level):\n",
        "  v = np.zeros(len(bus), dtype=complex)\n",
        "  for bar in buslv[0]:\n",
        "    v[bar-1] = bus.baseKV[bar-1]/np.sqrt(3)\n",
        "  for lv in range(1,level):\n",
        "    for line in netlv[lv]:\n",
        "      if bus.level[net.start[line-1]-1] < bus.level[net.end[line-1]-1]:\n",
        "        v[net.end[line-1]-1] = v[net.start[line-1]-1]\n",
        "      elif bus.level[net.end[line-1]-1] < bus.level[net.start[line-1]-1]:\n",
        "        v[net.start[line-1]-1] = v[net.end[line-1]-1]\n",
        "    for switch in swtlv[lv]:\n",
        "      if bus.level[swt.start[switch-1]-1] < bus.level[swt.end[switch-1]-1]:\n",
        "        v[swt.end[switch-1]-1] = v[swt.start[switch-1]-1]\n",
        "      elif bus.level[swt.end[switch-1]-1] < bus.level[swt.start[switch-1]-1]:\n",
        "        v[swt.start[switch-1]-1] = v[swt.end[switch-1]-1]\n",
        "  return v"
      ],
      "execution_count": 15,
      "outputs": []
    },
    {
      "cell_type": "code",
      "metadata": {
        "id": "k52mg1P_Hwtt"
      },
      "source": [
        "def sweeppowerflow():\n",
        "  #estados a serem calculados\n",
        "  Ibus = np.zeros(len(bus), dtype=complex)\n",
        "  Inet = np.zeros(len(net), dtype=complex)\n",
        "  Iswt = np.zeros(len(swt), dtype=complex)\n",
        "  v = initial_voltage(buslv, level)\n",
        "  error = np.infty\n",
        "  iteration = 0\n",
        "  while error > 1e-5 and iteration < 15:\n",
        "  # Passo 2: Injeção de corrente\n",
        "    for bar in bus.itertuples():\n",
        "      if v[bar.num-1] > 0:\n",
        "        Ibus[bar.num-1] = np.conj((bar.pd+1j*bar.qd)/(par['snom']*v[bar.num-1]))\n",
        "    # Passo 3: (Backward sweep): Fluxo de corrente para cada level\n",
        "    for lv in range(level-1,0,-1):\n",
        "      (Inet, Iswt) = currente_calc(lv, v, Ibus, Inet, Iswt, buslv, netlv, swtlv, level)\n",
        "    # Passo 4: (Forward sweep:) Tensões nas barras\n",
        "    for lv in range(1,level):\n",
        "      v = voltage_calc(lv, v, Ibus, Inet, Iswt, buslv, netlv, swtlv, level)\n",
        "    error = error_calc(v, Ibus)\n",
        "    iteration = iteration + 1\n",
        "  return v, Ibus, Inet, Iswt, error, iteration"
      ],
      "execution_count": 16,
      "outputs": []
    },
    {
      "cell_type": "markdown",
      "metadata": {
        "id": "ViB1dSaUj30S"
      },
      "source": [
        "## Funções adicionais para fluxo de carga"
      ]
    },
    {
      "cell_type": "code",
      "metadata": {
        "id": "wmQ6MwWFj9uz"
      },
      "source": [
        "def loss(Inet):\n",
        "  Ploss = 0\n",
        "  for line in net.itertuples():\n",
        "    Ploss = Ploss + line.r*(np.abs(Inet[line.Index]**2))\n",
        "  return Ploss"
      ],
      "execution_count": 17,
      "outputs": []
    },
    {
      "cell_type": "code",
      "metadata": {
        "id": "3ekN5ZyOkFeh"
      },
      "source": [
        "def "
      ],
      "execution_count": null,
      "outputs": []
    },
    {
      "cell_type": "code",
      "metadata": {
        "colab": {
          "base_uri": "https://localhost:8080/"
        },
        "id": "PAe4_W4LSzZI",
        "outputId": "26808ba3-df10-4d78-91ef-4d8cf3ece521"
      },
      "source": [
        "#swt['pos'] = [1,1,1,0,0,0,0,0,0,0,0,0]\n",
        "# swt['pos'] = [1,1,0,0,1,0,0,1,1,0,1,1]\n",
        "swt['pos'] = swt.ini\n",
        "(radial, level, buslv, netlv, swtlv) = radiality()\n",
        "if radial is True:\n",
        "  print(\"Radial\\n\")\n",
        "  (v, Ibus, Inet, Iswt, error, iteration) = sweeppowerflow()"
      ],
      "execution_count": 18,
      "outputs": [
        {
          "output_type": "stream",
          "text": [
            "Radial\n",
            "\n"
          ],
          "name": "stdout"
        }
      ]
    },
    {
      "cell_type": "code",
      "metadata": {
        "colab": {
          "base_uri": "https://localhost:8080/"
        },
        "id": "2yknRv7Ol5zm",
        "outputId": "fd06d933-75af-41f6-fa24-a3f3d372e899"
      },
      "source": [
        "v = np.round(np.abs(v), decimals=4)\n",
        "bus['v'] = np.abs(v)\n",
        "print(v)"
      ],
      "execution_count": 20,
      "outputs": [
        {
          "output_type": "stream",
          "text": [
            "[7.9674 7.9674 7.9493 7.8636 7.8193 7.7754 7.6738 7.6522 7.6522 7.6185\n",
            " 7.2573 6.441  6.9221 6.9157 6.9047 6.467  6.467  6.4514 6.4409 6.4309\n",
            " 6.2864 6.282  7.946  7.946  7.7171 7.7126 7.7087 7.6184 6.4514 7.8405\n",
            " 7.8405 7.7973 7.7757 7.2197 7.6639 7.6639 7.6509 7.2554 7.2197 7.2029\n",
            " 7.2029 7.1778 7.1722 7.1709 6.282 ]\n"
          ],
          "name": "stdout"
        }
      ]
    },
    {
      "cell_type": "code",
      "metadata": {
        "colab": {
          "base_uri": "https://localhost:8080/"
        },
        "id": "tqdtTL0m_DV4",
        "outputId": "dca5f055-57e2-4db8-80dc-8e2b24fed366"
      },
      "source": [
        "print(loss(Inet))"
      ],
      "execution_count": null,
      "outputs": [
        {
          "output_type": "stream",
          "text": [
            "35.25795233013515\n"
          ],
          "name": "stdout"
        }
      ]
    },
    {
      "cell_type": "code",
      "metadata": {
        "id": "h-g9ab47c4Fj"
      },
      "source": [
        ""
      ],
      "execution_count": null,
      "outputs": []
    },
    {
      "cell_type": "code",
      "metadata": {
        "id": "stYY65nCdRN3"
      },
      "source": [
        ""
      ],
      "execution_count": null,
      "outputs": []
    },
    {
      "cell_type": "code",
      "metadata": {
        "id": "MQw-GMG-dhLa"
      },
      "source": [
        ""
      ],
      "execution_count": null,
      "outputs": []
    },
    {
      "cell_type": "code",
      "metadata": {
        "colab": {
          "background_save": true
        },
        "id": "PZwHMcwYuiQi"
      },
      "source": [
        ""
      ],
      "execution_count": null,
      "outputs": []
    },
    {
      "cell_type": "code",
      "metadata": {
        "colab": {
          "background_save": true
        },
        "id": "1XdBI0jg3i8N",
        "outputId": "05bc23ce-6d43-4e7c-fcd6-503bcac68397"
      },
      "source": [
        ""
      ],
      "execution_count": null,
      "outputs": [
        {
          "output_type": "execute_result",
          "data": {
            "text/plain": [
              "array([ 2.97018458e+00+1.14489007e+00j, -1.75719889e+01-5.14400037e+00j,\n",
              "       -2.54926181e+01-8.32760624e+00j, -3.57418729e+01-1.34655387e+01j,\n",
              "       -1.04474038e+01-6.45230145e+00j, -1.88872377e+01-4.70991763e+00j,\n",
              "        1.41348314e+00+5.48418271e-01j, -4.73413629e+01-2.62111189e+01j,\n",
              "       -9.49364928e+00-1.05996619e+00j, -1.98993520e+01-4.59204453e+00j,\n",
              "       -1.48778364e+01-9.63992927e+00j, -9.93918849e+00-6.10550684e+00j,\n",
              "       -1.96316283e+01-1.00007208e+01j, -3.97478201e+01-1.52300532e+01j,\n",
              "       -1.98510822e+01-5.11875006e+00j, -1.88174258e+01-4.79020209e+00j,\n",
              "       -1.98496783e+01-5.48488139e+00j, -2.99467570e+01-9.98955219e+00j,\n",
              "       -2.73368795e+01-9.08712850e+00j, -2.98331401e+01-1.03758998e+01j,\n",
              "       -2.98490293e+01-1.03929737e+01j, -2.90691971e+01-9.65056385e+00j,\n",
              "        1.54994998e+00+6.70604346e-01j, -1.39408020e+02-6.03067626e+01j,\n",
              "       -1.95524290e+01-5.00568475e+00j,  5.03320327e-01+1.77936459e-01j,\n",
              "       -5.64913000e+00+2.04336472e-02j, -1.88372364e+01-4.43328154e+00j,\n",
              "       -3.95961169e+01-1.46522679e+01j,  4.89128652e-01+1.55473955e-01j,\n",
              "       -4.99524275e+01-9.85697183e+00j, -7.00533003e+01-2.98666112e+01j,\n",
              "       -5.96726368e+01-3.06469108e+01j, -9.92353236e-04-1.00763419e-03j,\n",
              "       -3.98958510e+01-1.52740213e+01j, -2.97413804e+01-1.07453339e+01j,\n",
              "       -1.00431899e-03-9.95650442e-04j,  0.00000000e+00+0.00000000e+00j,\n",
              "        0.00000000e+00+0.00000000e+00j,  0.00000000e+00+0.00000000e+00j,\n",
              "        0.00000000e+00+0.00000000e+00j,  0.00000000e+00+0.00000000e+00j,\n",
              "        0.00000000e+00+0.00000000e+00j,  0.00000000e+00+0.00000000e+00j,\n",
              "        0.00000000e+00+0.00000000e+00j])"
            ]
          },
          "metadata": {
            "tags": []
          },
          "execution_count": 0
        }
      ]
    },
    {
      "cell_type": "code",
      "metadata": {
        "id": "PQCbutVB3uwi"
      },
      "source": [
        ""
      ],
      "execution_count": null,
      "outputs": []
    }
  ]
}