{
  "nbformat": 4,
  "nbformat_minor": 0,
  "metadata": {
    "colab": {
      "name": "Fluxo de carga radial.ipynb",
      "provenance": [],
      "collapsed_sections": [],
      "toc_visible": true,
      "authorship_tag": "ABX9TyNsumxGNe1bZhJelCs7sAp7",
      "include_colab_link": true
    },
    "kernelspec": {
      "display_name": "Python 3",
      "name": "python3"
    }
  },
  "cells": [
    {
      "cell_type": "markdown",
      "metadata": {
        "id": "view-in-github",
        "colab_type": "text"
      },
      "source": [
        "<a href=\"https://colab.research.google.com/github/TeradaZenichi/dnotools/blob/master/Fluxo_de_carga_radial.ipynb\" target=\"_parent\"><img src=\"https://colab.research.google.com/assets/colab-badge.svg\" alt=\"Open In Colab\"/></a>"
      ]
    },
    {
      "cell_type": "markdown",
      "metadata": {
        "id": "35_Ko6OxEOEP"
      },
      "source": [
        "# **Fluxo de Carga Radial**"
      ]
    },
    {
      "cell_type": "markdown",
      "metadata": {
        "id": "mGkKwNmkEVD5"
      },
      "source": [
        "**Nome:** Lucas Zenichi Terada\n",
        "\n",
        "**Institution:** University of Campinas"
      ]
    },
    {
      "cell_type": "code",
      "metadata": {
        "id": "VHCc1xc7jluU"
      },
      "source": [
        "from collections import Counter\n",
        "import matplotlib.pyplot as plt\n",
        "import pandas as pd\n",
        "import numpy as np\n",
        "import json"
      ],
      "execution_count": 1,
      "outputs": []
    },
    {
      "cell_type": "markdown",
      "metadata": {
        "id": "RaPNQmDCFudv"
      },
      "source": [
        "## Análise Topológica"
      ]
    },
    {
      "cell_type": "code",
      "metadata": {
        "id": "EQHMjUvFCCeD"
      },
      "source": [
        "def verify(df, bar, aux_bus, aux_net, aux_swt, level, radial, line_type):\n",
        "  current_bar = 0\n",
        "  if df.start == bar and df.level == -1:\n",
        "    current_bar = df.end\n",
        "  if df.end == bar and df.level == -1:\n",
        "    current_bar = df.start \n",
        "  if current_bar > 0:\n",
        "    if line_type == 'line':\n",
        "      net.loc[df.num-1, 'level'] = level\n",
        "      aux_net.append(int(df.num))\n",
        "    if line_type == 'switch':\n",
        "      swt.loc[df.num-1, 'level'] = level\n",
        "      aux_swt.append(int(df.num))\n",
        "    if bus.loc[current_bar-1, 'level'] == -1:\n",
        "      bus.loc[current_bar-1, 'level'] = level\n",
        "      aux_bus.append(int(current_bar))\n",
        "    else:\n",
        "      radial = False\n",
        "  return aux_bus, aux_net, aux_swt, radial"
      ],
      "execution_count": 5,
      "outputs": []
    },
    {
      "cell_type": "code",
      "metadata": {
        "id": "-85cUKHxDsZm"
      },
      "source": [
        "def radiality():\n",
        "  (level, buslv, netlv, swtlv) = (0, [], [], [])\n",
        "  aux = []\n",
        "  (bus['level'], net['level'], swt['level']) = (np.ones(len(bus), dtype=int)*(-1),\n",
        "  np.ones(len(net), dtype=int)*(-1), np.ones(len(swt), dtype=int)*(-1))\n",
        "  radial = True\n",
        "  for ob in bus.itertuples():\n",
        "    if ob.bustype == 'feeder':\n",
        "      bus.loc[ob.Index, 'level'] = 0\n",
        "      aux.append(int(ob.num)) \n",
        "  buslv.append(aux)\n",
        "  netlv.append([])\n",
        "  swtlv.append([])\n",
        "  level = 1\n",
        "  while radial is True:\n",
        "    aux_bus = []\n",
        "    aux_net = []\n",
        "    aux_swt = []\n",
        "    for bar in buslv[level-1]:\n",
        "      for ol in net.itertuples():\n",
        "        (aux_bus, aux_net, aux_swt, radial) =  verify(net.loc[ol.num-1], bar, aux_bus, aux_net, aux_swt, level, radial, 'line')\n",
        "      for sw in swt.itertuples():\n",
        "        if sw.pos == 1:\n",
        "          (aux_bus, aux_net, aux_swt, radial) = verify(swt.loc[sw.Index], bar, aux_bus, aux_net, aux_swt, level, radial, 'switch')\n",
        "    if len(aux_bus) > 0:\n",
        "      buslv.append(aux_bus)\n",
        "      netlv.append(aux_net)\n",
        "      swtlv.append(aux_swt)\n",
        "      level +=1\n",
        "    else:\n",
        "      break\n",
        "  return radial, level, buslv, netlv, swtlv"
      ],
      "execution_count": 6,
      "outputs": []
    },
    {
      "cell_type": "code",
      "metadata": {
        "id": "7QO7JKbYENUn"
      },
      "source": [
        "# Carregar os arquivos dataframe para análise topológica\n",
        "global bus, net, swt, par\n",
        "bus = pd.read_csv('bus.csv')\n",
        "net = pd.read_csv('networks.csv')\n",
        "swt = pd.read_csv('switches.csv')\n",
        "par = json.load(open('param.json','r'))"
      ],
      "execution_count": 7,
      "outputs": []
    },
    {
      "cell_type": "code",
      "metadata": {
        "id": "E4SvV-JcF_Yj"
      },
      "source": [
        "net.r = net.r/1000\n",
        "net.x = net.x/1000\n",
        "swt.r = swt.r/1000\n",
        "swt.x = swt.x/1000"
      ],
      "execution_count": 8,
      "outputs": []
    },
    {
      "cell_type": "code",
      "metadata": {
        "id": "jsg1CqnrE77T"
      },
      "source": [
        ""
      ],
      "execution_count": 8,
      "outputs": []
    },
    {
      "cell_type": "markdown",
      "metadata": {
        "id": "r2ER5V6_oEKo"
      },
      "source": [
        "## Fluxo de carga - backward forward sweep"
      ]
    },
    {
      "cell_type": "code",
      "metadata": {
        "id": "nMgWF47CVY8b"
      },
      "source": [
        "def error_calc(v, Ibus):\n",
        "  error = 0\n",
        "  for bar in bus.itertuples():\n",
        "    if bar.bustype == 'load' and bar.level > 0:\n",
        "      aux = np.abs(bar.pd+1j*bar.qd - v[bar.num-1]*np.conj(Ibus[bar.num-1]))\n",
        "      error = np.maximum(aux, error)\n",
        "  return error"
      ],
      "execution_count": 9,
      "outputs": []
    },
    {
      "cell_type": "code",
      "metadata": {
        "id": "ZYlPbaDU2Jb7"
      },
      "source": [
        "def identify(df, lv):\n",
        "  if bus.level[int(df.start)-1] == int(lv):\n",
        "    mul = -1\n",
        "    return int(df.start), mul\n",
        "  elif bus.level[int(df.end)-1] == int(lv):\n",
        "    mul = 1\n",
        "    return int(df.end), mul\n",
        "  else:\n",
        "    return 0"
      ],
      "execution_count": 10,
      "outputs": []
    },
    {
      "cell_type": "code",
      "metadata": {
        "id": "Bme73yzH8Yj3"
      },
      "source": [
        "def nodalcurrent(Ibus, df, lv):\n",
        "  if bus.level[int(df.start)-1] == lv:\n",
        "    return -Ibus[int(df.start)-1]\n",
        "  elif bus.level[int(df.end)-1] == lv:\n",
        "    return Ibus[int(df.end)-1]"
      ],
      "execution_count": 11,
      "outputs": []
    },
    {
      "cell_type": "code",
      "metadata": {
        "id": "QQZy1BDfI2-w"
      },
      "source": [
        "def current(bar, Ikm, df, nplus):\n",
        "  Inear = 0\n",
        "  if bar == df.start:\n",
        "    Inear = Ikm[nplus-1]\n",
        "  elif bar == df.end:\n",
        "    Inear = -Ikm[nplus-1]\n",
        "  return Inear"
      ],
      "execution_count": 12,
      "outputs": []
    },
    {
      "cell_type": "code",
      "metadata": {
        "id": "e6sUb_EzhR3S"
      },
      "source": [
        "def currente_calc(lv, v, Ibus, Inet, Iswt, buslv, netlv, swtlv, level):\n",
        "  for n in netlv[lv]:\n",
        "    Inet[n-1] = nodalcurrent(Ibus, net.loc[n-1], lv)\n",
        "  for s in swtlv[lv]:\n",
        "    Iswt[s-1] = nodalcurrent(Ibus, swt.loc[s-1], lv)\n",
        "  if lv+1 < level:\n",
        "    for n in netlv[lv]:\n",
        "      (bar, mul) = identify(net.loc[n-1], lv)\n",
        "      for nplus in netlv[lv+1]:\n",
        "          Inet[n-1] = Inet[n-1] + mul*current(bar, Inet, net.loc[nplus-1], nplus)\n",
        "      for splus in swtlv[lv+1]:\n",
        "          Inet[n-1] = Inet[n-1] + mul*current(bar, Iswt, swt.loc[splus-1], splus)\n",
        "    for s in swtlv[lv]:\n",
        "      (bar, mul) = identify(swt.loc[s-1], lv)\n",
        "      for splus in swtlv[lv+1]:\n",
        "        Iswt[s-1] = Iswt[s-1] + mul*current(bar, Iswt, swt.loc[splus-1], splus)\n",
        "      for nplus in netlv[lv+1]:\n",
        "        Iswt[s-1] = Iswt[s-1] + mul*current(bar, Inet, net.loc[nplus-1], nplus)\n",
        "  return Inet, Iswt"
      ],
      "execution_count": 13,
      "outputs": []
    },
    {
      "cell_type": "code",
      "metadata": {
        "id": "ycH4F6sWmB-O"
      },
      "source": [
        "def voltage_calc(lv, v, Ibus, Inet, Iswt, buslv, netlv, swtlv, level):\n",
        "  for n in netlv[lv]:\n",
        "    if bus.level[net.start[n-1]-1] > bus.level[net.end[n-1]-1]:\n",
        "      v[net.start[n-1]-1] = v[net.end[n-1]-1] - Inet[n-1]*(net.r[n-1]+1j*net.x[n-1])\n",
        "    else:\n",
        "      v[net.end[n-1]-1] = v[net.start[n-1]-1] - Inet[n-1]*(net.r[n-1]+1j*net.x[n-1])\n",
        "  for s in swtlv[lv]:\n",
        "      if bus.level[swt.start[s-1]-1] > bus.level[swt.end[s-1]-1]:\n",
        "        v[swt.start[s-1]-1] = v[swt.end[s-1]-1] - Iswt[s-1]*(swt.r[n-1]+1j*swt.x[n-1])\n",
        "      else:\n",
        "        v[swt.end[s-1]-1] = v[swt.start[s-1]-1] - Iswt[s-1]*(swt.r[s-1]+1j*swt.x[s-1])\n",
        "  return v"
      ],
      "execution_count": 14,
      "outputs": []
    },
    {
      "cell_type": "code",
      "metadata": {
        "id": "M7Q_VRxtHKK_"
      },
      "source": [
        "def initial_voltage(buslv, level):\n",
        "  v = np.zeros(len(bus), dtype=complex)\n",
        "  for bar in buslv[0]:\n",
        "    v[bar-1] = bus.baseKV[bar-1]/np.sqrt(3)\n",
        "  for lv in range(1,level):\n",
        "    for line in netlv[lv]:\n",
        "      if bus.level[net.start[line-1]-1] < bus.level[net.end[line-1]-1]:\n",
        "        v[net.end[line-1]-1] = v[net.start[line-1]-1]\n",
        "      elif bus.level[net.end[line-1]-1] < bus.level[net.start[line-1]-1]:\n",
        "        v[net.start[line-1]-1] = v[net.end[line-1]-1]\n",
        "    for switch in swtlv[lv]:\n",
        "      if bus.level[swt.start[switch-1]-1] < bus.level[swt.end[switch-1]-1]:\n",
        "        v[swt.end[switch-1]-1] = v[swt.start[switch-1]-1]\n",
        "      elif bus.level[swt.end[switch-1]-1] < bus.level[swt.start[switch-1]-1]:\n",
        "        v[swt.start[switch-1]-1] = v[swt.end[switch-1]-1]\n",
        "  return v"
      ],
      "execution_count": 15,
      "outputs": []
    },
    {
      "cell_type": "code",
      "metadata": {
        "id": "k52mg1P_Hwtt"
      },
      "source": [
        "def sweeppowerflow():\n",
        "  #estados a serem calculados\n",
        "  Ibus = np.zeros(len(bus), dtype=complex)\n",
        "  Inet = np.zeros(len(net), dtype=complex)\n",
        "  Iswt = np.zeros(len(swt), dtype=complex)\n",
        "  v = initial_voltage(buslv, level)\n",
        "  error = np.infty\n",
        "  iteration = 0\n",
        "  while error > 1e-5 and iteration < 15:\n",
        "  # Passo 2: Injeção de corrente\n",
        "    for bar in bus.itertuples():\n",
        "      if v[bar.num-1] > 0:\n",
        "        Ibus[bar.num-1] = np.conj((bar.pd+1j*bar.qd)/(par['snom']*v[bar.num-1]))\n",
        "    # Passo 3: (Backward sweep): Fluxo de corrente para cada level\n",
        "    for lv in range(level-1,0,-1):\n",
        "      (Inet, Iswt) = currente_calc(lv, v, Ibus, Inet, Iswt, buslv, netlv, swtlv, level)\n",
        "    # Passo 4: (Forward sweep:) Tensões nas barras\n",
        "    for lv in range(1,level):\n",
        "      v = voltage_calc(lv, v, Ibus, Inet, Iswt, buslv, netlv, swtlv, level)\n",
        "    error = error_calc(v, Ibus)\n",
        "    iteration = iteration + 1\n",
        "  return v, Ibus, Inet, Iswt, error, iteration"
      ],
      "execution_count": 16,
      "outputs": []
    },
    {
      "cell_type": "markdown",
      "metadata": {
        "id": "ViB1dSaUj30S"
      },
      "source": [
        "## Funções adicionais para fluxo de carga"
      ]
    },
    {
      "cell_type": "code",
      "metadata": {
        "id": "wmQ6MwWFj9uz"
      },
      "source": [
        "def loss(Inet):\n",
        "  Ploss = 0\n",
        "  for line in net.itertuples():\n",
        "    Ploss = Ploss + line.r*(np.abs(Inet[line.Index]**2))\n",
        "  return Ploss"
      ],
      "execution_count": 17,
      "outputs": []
    },
    {
      "cell_type": "code",
      "metadata": {
        "id": "3ekN5ZyOkFeh"
      },
      "source": [
        "def branch_current(Inet, Iswt):\n",
        "  net['Ikm'] = np.round(np.abs(Inet), decimals=4)\n",
        "  swt['Ikm'] = np.round(np.abs(Iswt), decimals=4)"
      ],
      "execution_count": 21,
      "outputs": []
    },
    {
      "cell_type": "code",
      "metadata": {
        "id": "pyBu4NZfk67y"
      },
      "source": [
        "def refresh_bus(v):\n",
        "  v = np.round(np.abs(v), decimals=4)\n",
        "  bus['v'] = np.abs(v)"
      ],
      "execution_count": 22,
      "outputs": []
    },
    {
      "cell_type": "code",
      "metadata": {
        "id": "n5rJa_W9k0mo"
      },
      "source": [
        "def line_power(v, Inet, Iswt):\n",
        "  S = np.zeros(len(net), dtype=complex)\n",
        "  for line in net.itertuples():\n",
        "    S[line.Index] = v[line.start-1]*np.conj(Inet[line.Index])\n",
        "  net['Pkm'] = np.round(np.real(S), decimals=4)\n",
        "  net['Qkm'] = np.round(np.imag(S), decimals=4)\n",
        "  S = np.zeros(len(swt), dtype=complex)\n",
        "  for line in swt.itertuples():\n",
        "    S[line.Index] = v[line.start-1]*np.conj(Inet[line.Index])\n",
        "  swt['Pkm'] = np.round(np.real(S), decimals=4)\n",
        "  swt['Qkm'] = np.round(np.imag(S), decimals=4)"
      ],
      "execution_count": 28,
      "outputs": []
    },
    {
      "cell_type": "code",
      "metadata": {
        "colab": {
          "base_uri": "https://localhost:8080/"
        },
        "id": "PAe4_W4LSzZI",
        "outputId": "26808ba3-df10-4d78-91ef-4d8cf3ece521"
      },
      "source": [
        "#swt['pos'] = [1,1,1,0,0,0,0,0,0,0,0,0]\n",
        "# swt['pos'] = [1,1,0,0,1,0,0,1,1,0,1,1]\n",
        "swt['pos'] = swt.ini\n",
        "(radial, level, buslv, netlv, swtlv) = radiality()\n",
        "if radial is True:\n",
        "  print(\"Radial\\n\")\n",
        "  (v, Ibus, Inet, Iswt, error, iteration) = sweeppowerflow()"
      ],
      "execution_count": 18,
      "outputs": [
        {
          "output_type": "stream",
          "text": [
            "Radial\n",
            "\n"
          ],
          "name": "stdout"
        }
      ]
    },
    {
      "cell_type": "code",
      "metadata": {
        "id": "2yknRv7Ol5zm"
      },
      "source": [
        "line_power(v, Inet, Iswt)"
      ],
      "execution_count": 29,
      "outputs": []
    },
    {
      "cell_type": "code",
      "metadata": {
        "colab": {
          "base_uri": "https://localhost:8080/",
          "height": 1000
        },
        "id": "tqdtTL0m_DV4",
        "outputId": "d9bba09d-2b79-4329-a155-3d02092d3272"
      },
      "source": [
        ""
      ],
      "execution_count": 31,
      "outputs": [
        {
          "output_type": "execute_result",
          "data": {
            "text/html": [
              "<div>\n",
              "<style scoped>\n",
              "    .dataframe tbody tr th:only-of-type {\n",
              "        vertical-align: middle;\n",
              "    }\n",
              "\n",
              "    .dataframe tbody tr th {\n",
              "        vertical-align: top;\n",
              "    }\n",
              "\n",
              "    .dataframe thead th {\n",
              "        text-align: right;\n",
              "    }\n",
              "</style>\n",
              "<table border=\"1\" class=\"dataframe\">\n",
              "  <thead>\n",
              "    <tr style=\"text-align: right;\">\n",
              "      <th></th>\n",
              "      <th>num</th>\n",
              "      <th>start</th>\n",
              "      <th>end</th>\n",
              "      <th>r</th>\n",
              "      <th>x</th>\n",
              "      <th>bsh</th>\n",
              "      <th>tap</th>\n",
              "      <th>Imax</th>\n",
              "      <th>level</th>\n",
              "      <th>Pkm</th>\n",
              "      <th>Qkm</th>\n",
              "    </tr>\n",
              "  </thead>\n",
              "  <tbody>\n",
              "    <tr>\n",
              "      <th>0</th>\n",
              "      <td>1</td>\n",
              "      <td>2</td>\n",
              "      <td>3</td>\n",
              "      <td>0.000092</td>\n",
              "      <td>0.000047</td>\n",
              "      <td>0</td>\n",
              "      <td>1</td>\n",
              "      <td>200</td>\n",
              "      <td>2</td>\n",
              "      <td>1307.8793</td>\n",
              "      <td>504.4069</td>\n",
              "    </tr>\n",
              "    <tr>\n",
              "      <th>1</th>\n",
              "      <td>2</td>\n",
              "      <td>3</td>\n",
              "      <td>4</td>\n",
              "      <td>0.000493</td>\n",
              "      <td>0.000251</td>\n",
              "      <td>0</td>\n",
              "      <td>1</td>\n",
              "      <td>200</td>\n",
              "      <td>3</td>\n",
              "      <td>1152.5612</td>\n",
              "      <td>451.0841</td>\n",
              "    </tr>\n",
              "    <tr>\n",
              "      <th>2</th>\n",
              "      <td>3</td>\n",
              "      <td>4</td>\n",
              "      <td>5</td>\n",
              "      <td>0.000366</td>\n",
              "      <td>0.000186</td>\n",
              "      <td>0</td>\n",
              "      <td>1</td>\n",
              "      <td>200</td>\n",
              "      <td>4</td>\n",
              "      <td>797.7630</td>\n",
              "      <td>303.8428</td>\n",
              "    </tr>\n",
              "    <tr>\n",
              "      <th>3</th>\n",
              "      <td>4</td>\n",
              "      <td>5</td>\n",
              "      <td>6</td>\n",
              "      <td>0.000381</td>\n",
              "      <td>0.000194</td>\n",
              "      <td>0</td>\n",
              "      <td>1</td>\n",
              "      <td>200</td>\n",
              "      <td>5</td>\n",
              "      <td>753.2976</td>\n",
              "      <td>287.0540</td>\n",
              "    </tr>\n",
              "    <tr>\n",
              "      <th>4</th>\n",
              "      <td>5</td>\n",
              "      <td>6</td>\n",
              "      <td>7</td>\n",
              "      <td>0.000819</td>\n",
              "      <td>0.000707</td>\n",
              "      <td>0</td>\n",
              "      <td>1</td>\n",
              "      <td>200</td>\n",
              "      <td>6</td>\n",
              "      <td>729.0940</td>\n",
              "      <td>275.3916</td>\n",
              "    </tr>\n",
              "    <tr>\n",
              "      <th>5</th>\n",
              "      <td>6</td>\n",
              "      <td>7</td>\n",
              "      <td>8</td>\n",
              "      <td>0.000187</td>\n",
              "      <td>0.000619</td>\n",
              "      <td>0</td>\n",
              "      <td>1</td>\n",
              "      <td>200</td>\n",
              "      <td>7</td>\n",
              "      <td>381.9248</td>\n",
              "      <td>155.8552</td>\n",
              "    </tr>\n",
              "    <tr>\n",
              "      <th>6</th>\n",
              "      <td>7</td>\n",
              "      <td>9</td>\n",
              "      <td>10</td>\n",
              "      <td>0.000711</td>\n",
              "      <td>0.000235</td>\n",
              "      <td>0</td>\n",
              "      <td>1</td>\n",
              "      <td>200</td>\n",
              "      <td>9</td>\n",
              "      <td>321.1817</td>\n",
              "      <td>124.7579</td>\n",
              "    </tr>\n",
              "    <tr>\n",
              "      <th>7</th>\n",
              "      <td>8</td>\n",
              "      <td>10</td>\n",
              "      <td>11</td>\n",
              "      <td>0.010300</td>\n",
              "      <td>0.000740</td>\n",
              "      <td>0</td>\n",
              "      <td>1</td>\n",
              "      <td>200</td>\n",
              "      <td>10</td>\n",
              "      <td>260.0936</td>\n",
              "      <td>93.5606</td>\n",
              "    </tr>\n",
              "    <tr>\n",
              "      <th>8</th>\n",
              "      <td>9</td>\n",
              "      <td>11</td>\n",
              "      <td>13</td>\n",
              "      <td>0.010440</td>\n",
              "      <td>0.000740</td>\n",
              "      <td>0</td>\n",
              "      <td>1</td>\n",
              "      <td>200</td>\n",
              "      <td>11</td>\n",
              "      <td>227.7494</td>\n",
              "      <td>84.1769</td>\n",
              "    </tr>\n",
              "    <tr>\n",
              "      <th>9</th>\n",
              "      <td>10</td>\n",
              "      <td>13</td>\n",
              "      <td>14</td>\n",
              "      <td>0.000197</td>\n",
              "      <td>0.000065</td>\n",
              "      <td>0</td>\n",
              "      <td>1</td>\n",
              "      <td>200</td>\n",
              "      <td>12</td>\n",
              "      <td>197.1485</td>\n",
              "      <td>75.6269</td>\n",
              "    </tr>\n",
              "    <tr>\n",
              "      <th>10</th>\n",
              "      <td>11</td>\n",
              "      <td>14</td>\n",
              "      <td>15</td>\n",
              "      <td>0.000374</td>\n",
              "      <td>0.000124</td>\n",
              "      <td>0</td>\n",
              "      <td>1</td>\n",
              "      <td>200</td>\n",
              "      <td>13</td>\n",
              "      <td>181.7992</td>\n",
              "      <td>65.8124</td>\n",
              "    </tr>\n",
              "    <tr>\n",
              "      <th>11</th>\n",
              "      <td>12</td>\n",
              "      <td>15</td>\n",
              "      <td>16</td>\n",
              "      <td>0.014680</td>\n",
              "      <td>0.011550</td>\n",
              "      <td>0</td>\n",
              "      <td>1</td>\n",
              "      <td>200</td>\n",
              "      <td>14</td>\n",
              "      <td>161.3431</td>\n",
              "      <td>56.0492</td>\n",
              "    </tr>\n",
              "    <tr>\n",
              "      <th>12</th>\n",
              "      <td>13</td>\n",
              "      <td>17</td>\n",
              "      <td>18</td>\n",
              "      <td>0.000542</td>\n",
              "      <td>0.000713</td>\n",
              "      <td>0</td>\n",
              "      <td>1</td>\n",
              "      <td>200</td>\n",
              "      <td>16</td>\n",
              "      <td>131.1662</td>\n",
              "      <td>42.3921</td>\n",
              "    </tr>\n",
              "    <tr>\n",
              "      <th>13</th>\n",
              "      <td>14</td>\n",
              "      <td>18</td>\n",
              "      <td>19</td>\n",
              "      <td>0.000591</td>\n",
              "      <td>0.000526</td>\n",
              "      <td>0</td>\n",
              "      <td>1</td>\n",
              "      <td>200</td>\n",
              "      <td>17</td>\n",
              "      <td>90.9530</td>\n",
              "      <td>27.0148</td>\n",
              "    </tr>\n",
              "    <tr>\n",
              "      <th>14</th>\n",
              "      <td>15</td>\n",
              "      <td>19</td>\n",
              "      <td>20</td>\n",
              "      <td>0.000746</td>\n",
              "      <td>0.000545</td>\n",
              "      <td>0</td>\n",
              "      <td>1</td>\n",
              "      <td>200</td>\n",
              "      <td>18</td>\n",
              "      <td>70.8429</td>\n",
              "      <td>21.8172</td>\n",
              "    </tr>\n",
              "    <tr>\n",
              "      <th>15</th>\n",
              "      <td>16</td>\n",
              "      <td>20</td>\n",
              "      <td>21</td>\n",
              "      <td>0.012890</td>\n",
              "      <td>0.017210</td>\n",
              "      <td>0</td>\n",
              "      <td>1</td>\n",
              "      <td>200</td>\n",
              "      <td>19</td>\n",
              "      <td>50.7746</td>\n",
              "      <td>16.6197</td>\n",
              "    </tr>\n",
              "    <tr>\n",
              "      <th>16</th>\n",
              "      <td>17</td>\n",
              "      <td>21</td>\n",
              "      <td>22</td>\n",
              "      <td>0.000732</td>\n",
              "      <td>0.000574</td>\n",
              "      <td>0</td>\n",
              "      <td>1</td>\n",
              "      <td>200</td>\n",
              "      <td>20</td>\n",
              "      <td>29.7632</td>\n",
              "      <td>10.7539</td>\n",
              "    </tr>\n",
              "    <tr>\n",
              "      <th>17</th>\n",
              "      <td>18</td>\n",
              "      <td>3</td>\n",
              "      <td>23</td>\n",
              "      <td>0.000164</td>\n",
              "      <td>0.000157</td>\n",
              "      <td>0</td>\n",
              "      <td>1</td>\n",
              "      <td>200</td>\n",
              "      <td>3</td>\n",
              "      <td>122.3494</td>\n",
              "      <td>42.1699</td>\n",
              "    </tr>\n",
              "    <tr>\n",
              "      <th>18</th>\n",
              "      <td>19</td>\n",
              "      <td>24</td>\n",
              "      <td>25</td>\n",
              "      <td>0.015042</td>\n",
              "      <td>0.013554</td>\n",
              "      <td>0</td>\n",
              "      <td>1</td>\n",
              "      <td>200</td>\n",
              "      <td>5</td>\n",
              "      <td>92.3018</td>\n",
              "      <td>32.1384</td>\n",
              "    </tr>\n",
              "    <tr>\n",
              "      <th>19</th>\n",
              "      <td>20</td>\n",
              "      <td>25</td>\n",
              "      <td>26</td>\n",
              "      <td>0.000409</td>\n",
              "      <td>0.000478</td>\n",
              "      <td>0</td>\n",
              "      <td>1</td>\n",
              "      <td>200</td>\n",
              "      <td>6</td>\n",
              "      <td>59.7748</td>\n",
              "      <td>20.8246</td>\n",
              "    </tr>\n",
              "    <tr>\n",
              "      <th>20</th>\n",
              "      <td>21</td>\n",
              "      <td>26</td>\n",
              "      <td>27</td>\n",
              "      <td>0.000709</td>\n",
              "      <td>0.000937</td>\n",
              "      <td>0</td>\n",
              "      <td>1</td>\n",
              "      <td>200</td>\n",
              "      <td>7</td>\n",
              "      <td>29.8759</td>\n",
              "      <td>10.4142</td>\n",
              "    </tr>\n",
              "    <tr>\n",
              "      <th>21</th>\n",
              "      <td>22</td>\n",
              "      <td>4</td>\n",
              "      <td>30</td>\n",
              "      <td>0.000451</td>\n",
              "      <td>0.000308</td>\n",
              "      <td>0</td>\n",
              "      <td>1</td>\n",
              "      <td>200</td>\n",
              "      <td>4</td>\n",
              "      <td>312.3858</td>\n",
              "      <td>132.3389</td>\n",
              "    </tr>\n",
              "    <tr>\n",
              "      <th>22</th>\n",
              "      <td>23</td>\n",
              "      <td>31</td>\n",
              "      <td>32</td>\n",
              "      <td>0.000898</td>\n",
              "      <td>0.000709</td>\n",
              "      <td>0</td>\n",
              "      <td>1</td>\n",
              "      <td>200</td>\n",
              "      <td>6</td>\n",
              "      <td>281.4863</td>\n",
              "      <td>121.8919</td>\n",
              "    </tr>\n",
              "    <tr>\n",
              "      <th>23</th>\n",
              "      <td>24</td>\n",
              "      <td>32</td>\n",
              "      <td>33</td>\n",
              "      <td>0.000896</td>\n",
              "      <td>0.000701</td>\n",
              "      <td>0</td>\n",
              "      <td>1</td>\n",
              "      <td>200</td>\n",
              "      <td>7</td>\n",
              "      <td>140.1391</td>\n",
              "      <td>60.7452</td>\n",
              "    </tr>\n",
              "    <tr>\n",
              "      <th>24</th>\n",
              "      <td>25</td>\n",
              "      <td>7</td>\n",
              "      <td>35</td>\n",
              "      <td>0.000203</td>\n",
              "      <td>0.000103</td>\n",
              "      <td>0</td>\n",
              "      <td>1</td>\n",
              "      <td>200</td>\n",
              "      <td>7</td>\n",
              "      <td>317.6799</td>\n",
              "      <td>110.7893</td>\n",
              "    </tr>\n",
              "    <tr>\n",
              "      <th>25</th>\n",
              "      <td>26</td>\n",
              "      <td>36</td>\n",
              "      <td>37</td>\n",
              "      <td>0.000284</td>\n",
              "      <td>0.000145</td>\n",
              "      <td>0</td>\n",
              "      <td>1</td>\n",
              "      <td>200</td>\n",
              "      <td>9</td>\n",
              "      <td>297.3078</td>\n",
              "      <td>105.4930</td>\n",
              "    </tr>\n",
              "    <tr>\n",
              "      <th>26</th>\n",
              "      <td>27</td>\n",
              "      <td>37</td>\n",
              "      <td>38</td>\n",
              "      <td>0.010590</td>\n",
              "      <td>0.000934</td>\n",
              "      <td>0</td>\n",
              "      <td>1</td>\n",
              "      <td>200</td>\n",
              "      <td>10</td>\n",
              "      <td>276.8435</td>\n",
              "      <td>100.1571</td>\n",
              "    </tr>\n",
              "    <tr>\n",
              "      <th>27</th>\n",
              "      <td>28</td>\n",
              "      <td>38</td>\n",
              "      <td>39</td>\n",
              "      <td>0.000804</td>\n",
              "      <td>0.000701</td>\n",
              "      <td>0</td>\n",
              "      <td>1</td>\n",
              "      <td>200</td>\n",
              "      <td>11</td>\n",
              "      <td>242.5021</td>\n",
              "      <td>90.1030</td>\n",
              "    </tr>\n",
              "    <tr>\n",
              "      <th>28</th>\n",
              "      <td>29</td>\n",
              "      <td>39</td>\n",
              "      <td>40</td>\n",
              "      <td>0.000507</td>\n",
              "      <td>0.000258</td>\n",
              "      <td>0</td>\n",
              "      <td>1</td>\n",
              "      <td>200</td>\n",
              "      <td>12</td>\n",
              "      <td>201.2434</td>\n",
              "      <td>74.8322</td>\n",
              "    </tr>\n",
              "    <tr>\n",
              "      <th>29</th>\n",
              "      <td>30</td>\n",
              "      <td>41</td>\n",
              "      <td>42</td>\n",
              "      <td>0.000974</td>\n",
              "      <td>0.000963</td>\n",
              "      <td>0</td>\n",
              "      <td>1</td>\n",
              "      <td>200</td>\n",
              "      <td>14</td>\n",
              "      <td>140.6525</td>\n",
              "      <td>44.9019</td>\n",
              "    </tr>\n",
              "    <tr>\n",
              "      <th>30</th>\n",
              "      <td>31</td>\n",
              "      <td>42</td>\n",
              "      <td>43</td>\n",
              "      <td>0.000311</td>\n",
              "      <td>0.000362</td>\n",
              "      <td>0</td>\n",
              "      <td>1</td>\n",
              "      <td>200</td>\n",
              "      <td>15</td>\n",
              "      <td>90.1396</td>\n",
              "      <td>34.8612</td>\n",
              "    </tr>\n",
              "    <tr>\n",
              "      <th>31</th>\n",
              "      <td>32</td>\n",
              "      <td>43</td>\n",
              "      <td>44</td>\n",
              "      <td>0.000341</td>\n",
              "      <td>0.000530</td>\n",
              "      <td>0</td>\n",
              "      <td>1</td>\n",
              "      <td>200</td>\n",
              "      <td>16</td>\n",
              "      <td>20.0123</td>\n",
              "      <td>4.9665</td>\n",
              "    </tr>\n",
              "    <tr>\n",
              "      <th>32</th>\n",
              "      <td>33</td>\n",
              "      <td>10</td>\n",
              "      <td>28</td>\n",
              "      <td>0.020000</td>\n",
              "      <td>0.020000</td>\n",
              "      <td>0</td>\n",
              "      <td>1</td>\n",
              "      <td>200</td>\n",
              "      <td>10</td>\n",
              "      <td>0.0010</td>\n",
              "      <td>0.0010</td>\n",
              "    </tr>\n",
              "    <tr>\n",
              "      <th>33</th>\n",
              "      <td>34</td>\n",
              "      <td>12</td>\n",
              "      <td>19</td>\n",
              "      <td>0.020000</td>\n",
              "      <td>0.020000</td>\n",
              "      <td>0</td>\n",
              "      <td>1</td>\n",
              "      <td>200</td>\n",
              "      <td>18</td>\n",
              "      <td>-0.0010</td>\n",
              "      <td>-0.0010</td>\n",
              "    </tr>\n",
              "    <tr>\n",
              "      <th>34</th>\n",
              "      <td>35</td>\n",
              "      <td>18</td>\n",
              "      <td>29</td>\n",
              "      <td>0.020000</td>\n",
              "      <td>0.020000</td>\n",
              "      <td>0</td>\n",
              "      <td>1</td>\n",
              "      <td>200</td>\n",
              "      <td>17</td>\n",
              "      <td>0.0010</td>\n",
              "      <td>0.0010</td>\n",
              "    </tr>\n",
              "    <tr>\n",
              "      <th>35</th>\n",
              "      <td>36</td>\n",
              "      <td>22</td>\n",
              "      <td>45</td>\n",
              "      <td>0.000500</td>\n",
              "      <td>0.000500</td>\n",
              "      <td>0</td>\n",
              "      <td>1</td>\n",
              "      <td>200</td>\n",
              "      <td>21</td>\n",
              "      <td>0.0010</td>\n",
              "      <td>0.0010</td>\n",
              "    </tr>\n",
              "    <tr>\n",
              "      <th>36</th>\n",
              "      <td>37</td>\n",
              "      <td>34</td>\n",
              "      <td>39</td>\n",
              "      <td>0.000500</td>\n",
              "      <td>0.000500</td>\n",
              "      <td>0</td>\n",
              "      <td>1</td>\n",
              "      <td>200</td>\n",
              "      <td>12</td>\n",
              "      <td>-0.0010</td>\n",
              "      <td>-0.0010</td>\n",
              "    </tr>\n",
              "  </tbody>\n",
              "</table>\n",
              "</div>"
            ],
            "text/plain": [
              "    num  start  end         r         x  ...  tap  Imax  level        Pkm       Qkm\n",
              "0     1      2    3  0.000092  0.000047  ...    1   200      2  1307.8793  504.4069\n",
              "1     2      3    4  0.000493  0.000251  ...    1   200      3  1152.5612  451.0841\n",
              "2     3      4    5  0.000366  0.000186  ...    1   200      4   797.7630  303.8428\n",
              "3     4      5    6  0.000381  0.000194  ...    1   200      5   753.2976  287.0540\n",
              "4     5      6    7  0.000819  0.000707  ...    1   200      6   729.0940  275.3916\n",
              "5     6      7    8  0.000187  0.000619  ...    1   200      7   381.9248  155.8552\n",
              "6     7      9   10  0.000711  0.000235  ...    1   200      9   321.1817  124.7579\n",
              "7     8     10   11  0.010300  0.000740  ...    1   200     10   260.0936   93.5606\n",
              "8     9     11   13  0.010440  0.000740  ...    1   200     11   227.7494   84.1769\n",
              "9    10     13   14  0.000197  0.000065  ...    1   200     12   197.1485   75.6269\n",
              "10   11     14   15  0.000374  0.000124  ...    1   200     13   181.7992   65.8124\n",
              "11   12     15   16  0.014680  0.011550  ...    1   200     14   161.3431   56.0492\n",
              "12   13     17   18  0.000542  0.000713  ...    1   200     16   131.1662   42.3921\n",
              "13   14     18   19  0.000591  0.000526  ...    1   200     17    90.9530   27.0148\n",
              "14   15     19   20  0.000746  0.000545  ...    1   200     18    70.8429   21.8172\n",
              "15   16     20   21  0.012890  0.017210  ...    1   200     19    50.7746   16.6197\n",
              "16   17     21   22  0.000732  0.000574  ...    1   200     20    29.7632   10.7539\n",
              "17   18      3   23  0.000164  0.000157  ...    1   200      3   122.3494   42.1699\n",
              "18   19     24   25  0.015042  0.013554  ...    1   200      5    92.3018   32.1384\n",
              "19   20     25   26  0.000409  0.000478  ...    1   200      6    59.7748   20.8246\n",
              "20   21     26   27  0.000709  0.000937  ...    1   200      7    29.8759   10.4142\n",
              "21   22      4   30  0.000451  0.000308  ...    1   200      4   312.3858  132.3389\n",
              "22   23     31   32  0.000898  0.000709  ...    1   200      6   281.4863  121.8919\n",
              "23   24     32   33  0.000896  0.000701  ...    1   200      7   140.1391   60.7452\n",
              "24   25      7   35  0.000203  0.000103  ...    1   200      7   317.6799  110.7893\n",
              "25   26     36   37  0.000284  0.000145  ...    1   200      9   297.3078  105.4930\n",
              "26   27     37   38  0.010590  0.000934  ...    1   200     10   276.8435  100.1571\n",
              "27   28     38   39  0.000804  0.000701  ...    1   200     11   242.5021   90.1030\n",
              "28   29     39   40  0.000507  0.000258  ...    1   200     12   201.2434   74.8322\n",
              "29   30     41   42  0.000974  0.000963  ...    1   200     14   140.6525   44.9019\n",
              "30   31     42   43  0.000311  0.000362  ...    1   200     15    90.1396   34.8612\n",
              "31   32     43   44  0.000341  0.000530  ...    1   200     16    20.0123    4.9665\n",
              "32   33     10   28  0.020000  0.020000  ...    1   200     10     0.0010    0.0010\n",
              "33   34     12   19  0.020000  0.020000  ...    1   200     18    -0.0010   -0.0010\n",
              "34   35     18   29  0.020000  0.020000  ...    1   200     17     0.0010    0.0010\n",
              "35   36     22   45  0.000500  0.000500  ...    1   200     21     0.0010    0.0010\n",
              "36   37     34   39  0.000500  0.000500  ...    1   200     12    -0.0010   -0.0010\n",
              "\n",
              "[37 rows x 11 columns]"
            ]
          },
          "metadata": {
            "tags": []
          },
          "execution_count": 31
        }
      ]
    },
    {
      "cell_type": "code",
      "metadata": {
        "id": "h-g9ab47c4Fj"
      },
      "source": [
        ""
      ],
      "execution_count": null,
      "outputs": []
    },
    {
      "cell_type": "code",
      "metadata": {
        "id": "stYY65nCdRN3"
      },
      "source": [
        ""
      ],
      "execution_count": null,
      "outputs": []
    },
    {
      "cell_type": "code",
      "metadata": {
        "id": "MQw-GMG-dhLa"
      },
      "source": [
        ""
      ],
      "execution_count": null,
      "outputs": []
    },
    {
      "cell_type": "code",
      "metadata": {
        "colab": {
          "background_save": true
        },
        "id": "PZwHMcwYuiQi"
      },
      "source": [
        ""
      ],
      "execution_count": null,
      "outputs": []
    },
    {
      "cell_type": "code",
      "metadata": {
        "colab": {
          "background_save": true
        },
        "id": "1XdBI0jg3i8N",
        "outputId": "05bc23ce-6d43-4e7c-fcd6-503bcac68397"
      },
      "source": [
        ""
      ],
      "execution_count": null,
      "outputs": [
        {
          "output_type": "execute_result",
          "data": {
            "text/plain": [
              "array([ 2.97018458e+00+1.14489007e+00j, -1.75719889e+01-5.14400037e+00j,\n",
              "       -2.54926181e+01-8.32760624e+00j, -3.57418729e+01-1.34655387e+01j,\n",
              "       -1.04474038e+01-6.45230145e+00j, -1.88872377e+01-4.70991763e+00j,\n",
              "        1.41348314e+00+5.48418271e-01j, -4.73413629e+01-2.62111189e+01j,\n",
              "       -9.49364928e+00-1.05996619e+00j, -1.98993520e+01-4.59204453e+00j,\n",
              "       -1.48778364e+01-9.63992927e+00j, -9.93918849e+00-6.10550684e+00j,\n",
              "       -1.96316283e+01-1.00007208e+01j, -3.97478201e+01-1.52300532e+01j,\n",
              "       -1.98510822e+01-5.11875006e+00j, -1.88174258e+01-4.79020209e+00j,\n",
              "       -1.98496783e+01-5.48488139e+00j, -2.99467570e+01-9.98955219e+00j,\n",
              "       -2.73368795e+01-9.08712850e+00j, -2.98331401e+01-1.03758998e+01j,\n",
              "       -2.98490293e+01-1.03929737e+01j, -2.90691971e+01-9.65056385e+00j,\n",
              "        1.54994998e+00+6.70604346e-01j, -1.39408020e+02-6.03067626e+01j,\n",
              "       -1.95524290e+01-5.00568475e+00j,  5.03320327e-01+1.77936459e-01j,\n",
              "       -5.64913000e+00+2.04336472e-02j, -1.88372364e+01-4.43328154e+00j,\n",
              "       -3.95961169e+01-1.46522679e+01j,  4.89128652e-01+1.55473955e-01j,\n",
              "       -4.99524275e+01-9.85697183e+00j, -7.00533003e+01-2.98666112e+01j,\n",
              "       -5.96726368e+01-3.06469108e+01j, -9.92353236e-04-1.00763419e-03j,\n",
              "       -3.98958510e+01-1.52740213e+01j, -2.97413804e+01-1.07453339e+01j,\n",
              "       -1.00431899e-03-9.95650442e-04j,  0.00000000e+00+0.00000000e+00j,\n",
              "        0.00000000e+00+0.00000000e+00j,  0.00000000e+00+0.00000000e+00j,\n",
              "        0.00000000e+00+0.00000000e+00j,  0.00000000e+00+0.00000000e+00j,\n",
              "        0.00000000e+00+0.00000000e+00j,  0.00000000e+00+0.00000000e+00j,\n",
              "        0.00000000e+00+0.00000000e+00j])"
            ]
          },
          "metadata": {
            "tags": []
          },
          "execution_count": 0
        }
      ]
    },
    {
      "cell_type": "code",
      "metadata": {
        "id": "PQCbutVB3uwi"
      },
      "source": [
        ""
      ],
      "execution_count": null,
      "outputs": []
    }
  ]
}